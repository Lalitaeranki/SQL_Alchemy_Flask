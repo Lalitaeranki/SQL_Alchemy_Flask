{
 "cells": [
  {
   "cell_type": "code",
   "execution_count": 2,
   "metadata": {},
   "outputs": [],
   "source": [
    "%matplotlib inline\n",
    "from matplotlib import style\n",
    "style.use('fivethirtyeight')\n",
    "import matplotlib.pyplot as plt"
   ]
  },
  {
   "cell_type": "code",
   "execution_count": 3,
   "metadata": {},
   "outputs": [],
   "source": [
    "import numpy as np\n",
    "import pandas as pd"
   ]
  },
  {
   "cell_type": "code",
   "execution_count": 27,
   "metadata": {},
   "outputs": [],
   "source": [
    "import datetime as dt\n",
    "from datetime import datetime"
   ]
  },
  {
   "cell_type": "markdown",
   "metadata": {},
   "source": [
    "# Reflect Tables into SQLAlchemy ORM"
   ]
  },
  {
   "cell_type": "code",
   "execution_count": 5,
   "metadata": {},
   "outputs": [],
   "source": [
    "# Python SQL toolkit and Object Relational Mapper\n",
    "import sqlalchemy\n",
    "from sqlalchemy.ext.automap import automap_base\n",
    "from sqlalchemy.orm import Session\n",
    "from sqlalchemy import create_engine, func,inspect"
   ]
  },
  {
   "cell_type": "code",
   "execution_count": 6,
   "metadata": {},
   "outputs": [],
   "source": [
    "engine = create_engine(\"sqlite:///Resources/hawaii.sqlite\")"
   ]
  },
  {
   "cell_type": "code",
   "execution_count": 7,
   "metadata": {},
   "outputs": [],
   "source": [
    "# reflect an existing database into a new model\n",
    "Base = automap_base()\n",
    "# reflect the tables\n",
    "Base.prepare(engine, reflect=True)"
   ]
  },
  {
   "cell_type": "code",
   "execution_count": 8,
   "metadata": {},
   "outputs": [
    {
     "data": {
      "text/plain": [
       "['measurement', 'station']"
      ]
     },
     "execution_count": 8,
     "metadata": {},
     "output_type": "execute_result"
    }
   ],
   "source": [
    "# We can view all of the classes that automap found\n",
    "Base.classes.keys()"
   ]
  },
  {
   "cell_type": "code",
   "execution_count": 9,
   "metadata": {},
   "outputs": [],
   "source": [
    "# Save references to each table\n",
    "Measurement = Base.classes.measurement\n",
    "Station = Base.classes.station"
   ]
  },
  {
   "cell_type": "code",
   "execution_count": 10,
   "metadata": {},
   "outputs": [],
   "source": [
    "# Create our session (link) from Python to the DB\n",
    "session = Session(engine)\n"
   ]
  },
  {
   "cell_type": "markdown",
   "metadata": {},
   "source": [
    "# Exploratory Climate Analysis"
   ]
  },
  {
   "cell_type": "code",
   "execution_count": 11,
   "metadata": {},
   "outputs": [
    {
     "data": {
      "text/plain": [
       "[(1, 'USC00519397', '2010-01-01', 0.08, 65.0),\n",
       " (2, 'USC00519397', '2010-01-02', 0.0, 63.0),\n",
       " (3, 'USC00519397', '2010-01-03', 0.0, 74.0),\n",
       " (4, 'USC00519397', '2010-01-04', 0.0, 76.0),\n",
       " (5, 'USC00519397', '2010-01-06', None, 73.0)]"
      ]
     },
     "execution_count": 11,
     "metadata": {},
     "output_type": "execute_result"
    }
   ],
   "source": [
    "engine.execute('SELECT * FROM measurement LIMIT 5').fetchall()"
   ]
  },
  {
   "cell_type": "code",
   "execution_count": 12,
   "metadata": {},
   "outputs": [
    {
     "name": "stdout",
     "output_type": "stream",
     "text": [
      "id INTEGER\n",
      "station TEXT\n",
      "date TEXT\n",
      "prcp FLOAT\n",
      "tobs FLOAT\n"
     ]
    }
   ],
   "source": [
    "inspector=inspect(engine)\n",
    "columns = inspector.get_columns('measurement')\n",
    "for c in columns:\n",
    "    print(c['name'], c[\"type\"])\n"
   ]
  },
  {
   "cell_type": "code",
   "execution_count": 14,
   "metadata": {},
   "outputs": [
    {
     "data": {
      "image/png": "[encoded data removed]",
      "text/plain": [
       "<Figure size 432x288 with 1 Axes>"
      ]
     },
     "metadata": {},
     "output_type": "display_data"
    }
   ],
   "source": [
    "# Design a query to retrieve the last 12 months of precipitation data and plot the results\n",
    "\n",
    "# Calculate the date 1 year ago from today\n",
    "#most recent date (2017-08-23)\n",
    "most_recent = session.query(Measurement.date).order_by(Measurement.date.desc()).first()\n",
    "year_ago=dt.date(2017, 8, 23)-dt.timedelta(days=365)\n",
    "\n",
    "# Perform a query to retrieve the data and precipitation scores # Sort the dataframe by date\n",
    "\n",
    "data_precipitation=session.query(Measurement.date,Measurement.prcp).\\\n",
    "        filter(Measurement.date>=year_ago).\\\n",
    "        order_by(Measurement.date).all()\n",
    "data_precipitation\n",
    "\n",
    "# Save the query results as a Pandas DataFrame and set the index to the date column\n",
    "precipitation_df=pd.DataFrame(data_precipitation)\n",
    "precipitation_df.set_index('date').head()\n",
    "# Use Pandas Plotting with Matplotlib to plot the data\n",
    "\n",
    "plt.style.use('ggplot')\n",
    "precipitation_df.plot('date', 'prcp',color=\"blue\")\n",
    "plt.xlabel(\"date\")\n",
    "plt.xticks(rotation=45)\n",
    "plt.legend([\"precipitation\"],loc=9)\n",
    "plt.tight_layout()\n",
    "plt.savefig(\"datesVsprecipitation.png\")\n",
    "plt.show()\n"
   ]
  },
  {
   "cell_type": "code",
   "execution_count": 15,
   "metadata": {},
   "outputs": [
    {
     "data": {
      "text/html": [
       "<div>\n",
       "<style scoped>\n",
       "    .dataframe tbody tr th:only-of-type {\n",
       "        vertical-align: middle;\n",
       "    }\n",
       "\n",
       "    .dataframe tbody tr th {\n",
       "        vertical-align: top;\n",
       "    }\n",
       "\n",
       "    .dataframe thead th {\n",
       "        text-align: right;\n",
       "    }\n",
       "</style>\n",
       "<table border=\"1\" class=\"dataframe\">\n",
       "  <thead>\n",
       "    <tr style=\"text-align: right;\">\n",
       "      <th></th>\n",
       "      <th>prcp</th>\n",
       "    </tr>\n",
       "  </thead>\n",
       "  <tbody>\n",
       "    <tr>\n",
       "      <th>count</th>\n",
       "      <td>2021.000000</td>\n",
       "    </tr>\n",
       "    <tr>\n",
       "      <th>mean</th>\n",
       "      <td>0.177279</td>\n",
       "    </tr>\n",
       "    <tr>\n",
       "      <th>std</th>\n",
       "      <td>0.461190</td>\n",
       "    </tr>\n",
       "    <tr>\n",
       "      <th>min</th>\n",
       "      <td>0.000000</td>\n",
       "    </tr>\n",
       "    <tr>\n",
       "      <th>25%</th>\n",
       "      <td>0.000000</td>\n",
       "    </tr>\n",
       "    <tr>\n",
       "      <th>50%</th>\n",
       "      <td>0.020000</td>\n",
       "    </tr>\n",
       "    <tr>\n",
       "      <th>75%</th>\n",
       "      <td>0.130000</td>\n",
       "    </tr>\n",
       "    <tr>\n",
       "      <th>max</th>\n",
       "      <td>6.700000</td>\n",
       "    </tr>\n",
       "  </tbody>\n",
       "</table>\n",
       "</div>"
      ],
      "text/plain": [
       "              prcp\n",
       "count  2021.000000\n",
       "mean      0.177279\n",
       "std       0.461190\n",
       "min       0.000000\n",
       "25%       0.000000\n",
       "50%       0.020000\n",
       "75%       0.130000\n",
       "max       6.700000"
      ]
     },
     "execution_count": 15,
     "metadata": {},
     "output_type": "execute_result"
    }
   ],
   "source": [
    "# Use Pandas to calcualte the summary statistics for the precipitation data\n",
    "precipitation_df.describe()\n"
   ]
  },
  {
   "cell_type": "code",
   "execution_count": 16,
   "metadata": {},
   "outputs": [
    {
     "name": "stdout",
     "output_type": "stream",
     "text": [
      "id INTEGER\n",
      "station TEXT\n",
      "name TEXT\n",
      "latitude FLOAT\n",
      "longitude FLOAT\n",
      "elevation FLOAT\n"
     ]
    }
   ],
   "source": [
    "inspector=inspect(engine)\n",
    "columns = inspector.get_columns('station')\n",
    "for c in columns:\n",
    "    print(c['name'], c[\"type\"])"
   ]
  },
  {
   "cell_type": "code",
   "execution_count": 17,
   "metadata": {},
   "outputs": [
    {
     "data": {
      "text/plain": [
       "[(1, 'USC00519397', 'WAIKIKI 717.2, HI US', 21.2716, -157.8168, 3.0),\n",
       " (2, 'USC00513117', 'KANEOHE 838.1, HI US', 21.4234, -157.8015, 14.6),\n",
       " (3, 'USC00514830', 'KUALOA RANCH HEADQUARTERS 886.9, HI US', 21.5213, -157.8374, 7.0),\n",
       " (4, 'USC00517948', 'PEARL CITY, HI US', 21.3934, -157.9751, 11.9),\n",
       " (5, 'USC00518838', 'UPPER WAHIAWA 874.3, HI US', 21.4992, -158.0111, 306.6)]"
      ]
     },
     "execution_count": 17,
     "metadata": {},
     "output_type": "execute_result"
    }
   ],
   "source": [
    "engine.execute('SELECT * FROM station LIMIT 5').fetchall()"
   ]
  },
  {
   "cell_type": "code",
   "execution_count": 62,
   "metadata": {},
   "outputs": [
    {
     "name": "stdout",
     "output_type": "stream",
     "text": [
      "The number of available stations in dataset: [(9,)]\n"
     ]
    }
   ],
   "source": [
    "# How many stations are available in this dataset?\n",
    "stations_available=session.query(func.count(Station.station)).all()\n",
    "print(f'The number of available stations in dataset: {stations_available}')"
   ]
  },
  {
   "cell_type": "code",
   "execution_count": 63,
   "metadata": {},
   "outputs": [
    {
     "name": "stdout",
     "output_type": "stream",
     "text": [
      "Most active stations are[('USC00519281', 2772), ('USC00519397', 2724), ('USC00513117', 2709), ('USC00519523', 2669), ('USC00516128', 2612), ('USC00514830', 2202), ('USC00511918', 1979), ('USC00517948', 1372), ('USC00518838', 511)]\n"
     ]
    }
   ],
   "source": [
    "# What are the most active stations?\n",
    "# List the stations and the counts in descending ordsumer.\n",
    "list_stations=session.query(Station.station,func.count(Measurement.station)).\\\n",
    "              filter(Station.station==Measurement.station).\\\n",
    "              group_by(Station.station).\\\n",
    "              order_by(func.count(Measurement.station).desc()).all()\n",
    "print(f'Most active stations are{list_stations}')"
   ]
  },
  {
   "cell_type": "code",
   "execution_count": 65,
   "metadata": {},
   "outputs": [
    {
     "name": "stdout",
     "output_type": "stream",
     "text": [
      "The Minimum, Average and maxium temperature for most active station [('WAIHEE 837.5, HI US', 54.0, 85.0, 71.66378066378067)]\n"
     ]
    }
   ],
   "source": [
    "# Using the station id from the previous query, calculate the lowest temperature recorded, \n",
    "# highest temperature recorded, and average temperature most active station?\n",
    "print(f'The Minimum, Average and maxium temperature for most active station {session.query(Station.name,func.min(Measurement.tobs),func.max(Measurement.tobs),func.avg(Measurement.tobs)).\\\n",
    "              filter(Station.station==Measurement.station).\\\n",
    "              filter(Station.station==\"USC00519281\").all()}')\n"
   ]
  },
  {
   "cell_type": "code",
   "execution_count": 66,
   "metadata": {},
   "outputs": [
    {
     "data": {
      "text/plain": [
       "'USC00519281'"
      ]
     },
     "execution_count": 66,
     "metadata": {},
     "output_type": "execute_result"
    }
   ],
   "source": [
    "# Choose the station with the highest number of temperature observations.\n",
    "list_stations_temp=session.query(Station.station,func.count(Measurement.tobs)).\\\n",
    "              filter(Station.station==Measurement.station).\\\n",
    "               group_by(Station.station).\\\n",
    "              order_by(func.count(Measurement.tobs).desc()).all()\n",
    "list_stations_temp[0][0]"
   ]
  },
  {
   "cell_type": "code",
   "execution_count": 67,
   "metadata": {},
   "outputs": [
    {
     "data": {
      "image/png": "[encoded data removed]",
      "text/plain": [
       "<Figure size 432x288 with 1 Axes>"
      ]
     },
     "metadata": {},
     "output_type": "display_data"
    }
   ],
   "source": [
    "# Choose the station with the highest number of temperature observations.\n",
    "query_station=list_stations[0][0]\n",
    "# Query the last 12 months of temperature observation data for this station and plot the results as a histogram\n",
    "temperature_records=session.query(Measurement.date,Measurement.tobs).\\\n",
    "                    filter(Measurement.station==query_station).\\\n",
    "                    filter(Measurement.date>=year_ago).\\\n",
    "                    order_by(Measurement.tobs.desc()).all()\n",
    "frequency= [temperature_record[0] for temperature_record in temperature_records]\n",
    "temperature = [temperature_record[1]  for temperature_record in temperature_records]\n",
    "df = pd.DataFrame(temperature_records, columns=['Temperature', 'Frequency'])\n",
    "df.set_index('Temperature', inplace=True )\n",
    "df.plot.hist(color=\"blue\",bins=12)\n",
    "plt.xlabel(\"Temperature\")\n",
    "plt.legend([\"tobs\"],loc=1)\n",
    "plt.tight_layout()\n",
    "plt.savefig(\"TemperatureVsFrequency.png\")\n",
    "plt.show()"
   ]
  },
  {
   "cell_type": "code",
   "execution_count": 74,
   "metadata": {},
   "outputs": [
    {
     "name": "stdout",
     "output_type": "stream",
     "text": [
      "Enter your start date (%Y-%m-%d): 2012-02-28\n",
      "Enter your end date (%Y-%m-%d): 2012-03-05\n",
      "The Minimum, Average, Maximum Temperatures from start to end date are: [62.0, 69.57142857142857, 74.0]\n"
     ]
    }
   ],
   "source": [
    "# Write a function called `calc_temps` that will accept start date and end date in the format '%Y-%m-%d' \n",
    "# and return the minimum, average, and maximum temperatures for that range of dates\n",
    "def calc_temps(start_date, end_date):\n",
    "    #TMIN, TAVG, and TMAX for a list of dates.\n",
    "    min_temp = session.query(func.min(Measurement.tobs)).\\\n",
    "            filter(Measurement.date >=start_date).\\\n",
    "            filter(Measurement.date <=end_date).all()\n",
    "        \n",
    "    max_temp = session.query(func.max(Measurement.tobs)).\\\n",
    "                filter(Measurement.date >=start_date).\\\n",
    "            filter(Measurement.date <= end_date).all()\n",
    "        \n",
    "    avg_temp = session.query(func.avg(Measurement.tobs)).\\\n",
    "            filter(Measurement.date >=start_date).\\\n",
    "            filter(Measurement.date <= end_date).all()\n",
    "    starting_date = str(input(\"Enter your start date (%Y-%m-%d): \"))\n",
    "    ending_date = str(input(\"Enter your end date (%Y-%m-%d): \"))\n",
    "    \n",
    "    start_date =datetime.strptime(starting_date, '%Y-%m-%d').date()\n",
    "    end_date =datetime.strptime(ending_date, '%Y-%m-%d').date()\n",
    "        \n",
    "    result = min_temp, avg_temp, max_temp\n",
    "    return list(np.ravel(result))\n",
    "    \n",
    "    \n",
    "    \n",
    "    \n",
    "#print(f'The Minimum, Average, Maximum Temperatures from start to end date are: {calc_temps(\"2012-02-28\",\"2012-03-05\")}')\n",
    "print (f'The Minimum, Average, Maximum Temperatures from start to end date are: {calc_temps(\"2012-02-28\",\"2012-03-05\")}')\n"
   ]
  },
  {
   "cell_type": "code",
   "execution_count": 76,
   "metadata": {},
   "outputs": [
    {
     "name": "stdout",
     "output_type": "stream",
     "text": [
      "Enter your start date (%Y-%m-%d): 2011-02-28\n",
      "Enter your end date (%Y-%m-%d): 2011-03-05\n",
      "The Minimum, Average, Maximum Temperatures from start to end date year before  are: [61.0, 69.75510204081633, 75.0]\n"
     ]
    }
   ],
   "source": [
    "# Use your previous function `calc_temps` to calculate the tmin, tavg, and tmax \n",
    "# for your trip using the previous year's data for those same dates.\n",
    "temperatures=(calc_temps('2011-02-28', '2011-03-05'))\n",
    "print (f'The Minimum, Average, Maximum Temperatures from start to end date year before  are: {temperatures}')"
   ]
  },
  {
   "cell_type": "code",
   "execution_count": 77,
   "metadata": {
    "scrolled": true
   },
   "outputs": [
    {
     "name": "stderr",
     "output_type": "stream",
     "text": [
      "C:\\Users\\lalit\\anaconda\\Anaconda3\\envs\\pythondata\\lib\\site-packages\\matplotlib\\cbook\\deprecation.py:107: MatplotlibDeprecationWarning: Adding an axes using the same arguments as a previous axes currently reuses the earlier instance.  In a future version, a new instance will always be created and returned.  Meanwhile, this warning can be suppressed, and the future behavior ensured, by passing a unique label to each axes instance.\n",
      "  warnings.warn(message, mplDeprecation, stacklevel=1)\n"
     ]
    },
    {
     "data": {
      "image/png": "[encoded data removed]",
      "text/plain": [
       "<Figure size 432x288 with 1 Axes>"
      ]
     },
     "metadata": {},
     "output_type": "display_data"
    }
   ],
   "source": [
    "# Plot the results from your previous query as a bar chart. \n",
    "# Use \"Trip Avg Temp\" as your Title\n",
    "plt.title(\"Trip Avg Temp\")\n",
    "# Use the average temperature for the y value\n",
    "Avg_temp=temperatures[1]\n",
    "# Use the peak-to-peak (tmax-tmin) value as the y error bar (yerr)\n",
    "yerr = temperatures[2]-temperatures[0]\n",
    "plt.bar(1,Avg_temp, color='lightcoral', width=0.3, yerr =yerr)\n",
    "plt.xlim(-0.2, 2.2)\n",
    "plt.ylim(0,100)\n",
    "plt.axes().get_xaxis().set_visible(False)\n",
    "plt.title('Trip Avg Temp')\n",
    "plt.ylabel(\"Temp (F)\")\n",
    "plt.grid(color='grey')\n",
    "plt.tight_layout()\n",
    "plt.savefig(\"Trip Avg Temp.png\")\n",
    "plt.show()"
   ]
  },
  {
   "cell_type": "code",
   "execution_count": 78,
   "metadata": {},
   "outputs": [
    {
     "name": "stdout",
     "output_type": "stream",
     "text": [
      "Enter your start date (%Y-%m-%d): 2011-02-28\n",
      "Enter your end date (%Y-%m-%d): 2011-03-05\n",
      "Rainfall per station is [('USC00518838', 'UPPER WAHIAWA 874.3, HI US', 21.4992, -158.0111, 306.6, 1.42), ('USC00511918', 'HONOLULU OBSERVATORY 702.2, HI US', 21.3152, -157.9992, 0.9, 0.6), ('USC00519397', 'WAIKIKI 717.2, HI US', 21.2716, -157.8168, 3.0, 0.4), ('USC00516128', 'MANOA LYON ARBO 785.2, HI US', 21.3331, -157.8025, 152.4, 0.29), ('USC00514830', 'KUALOA RANCH HEADQUARTERS 886.9, HI US', 21.5213, -157.8374, 7.0, 0.26), ('USC00519281', 'WAIHEE 837.5, HI US', 21.45167, -157.84888999999998, 32.9, 0.26), ('USC00519523', 'WAIMANALO EXPERIMENTAL FARM, HI US', 21.33556, -157.71139, 19.5, 0.22), ('USC00513117', 'KANEOHE 838.1, HI US', 21.4234, -157.8015, 14.6, 0.13), ('USC00517948', 'PEARL CITY, HI US', 21.3934, -157.9751, 11.9, None)]\n"
     ]
    }
   ],
   "source": [
    "# Calculate the rainfall per weather station for your trip dates using the previous year's matching dates.\n",
    "# Sort this in descending order by precipitation amount and list the station, name, latitude, longitude, and elevation\n",
    "def weather_per_station():\n",
    "    starting_date = str(input(\"Enter your start date (%Y-%m-%d): \"))\n",
    "    ending_date = str(input(\"Enter your end date (%Y-%m-%d): \"))\n",
    "    \n",
    "    start_date =datetime.strptime(starting_date, '%Y-%m-%d').date()\n",
    "    end_date =datetime.strptime(ending_date, '%Y-%m-%d').date()\n",
    "    rainfall_weather_per_station=session.query(Station.station,Station.name,Station.latitude, Station.longitude,Station.elevation,Measurement.prcp).\\\n",
    "                            filter(Station.station==Measurement.station).\\\n",
    "                            filter(Measurement.date >=start_date).\\\n",
    "                            filter(Measurement.date <= end_date).\\\n",
    "                            group_by(Station.station).\\\n",
    "                            order_by(Measurement.prcp.desc()).all()\n",
    "    return rainfall_weather_per_station\n",
    "print(f'Rainfall per station is {weather_per_station()}')\n"
   ]
  },
  {
   "cell_type": "markdown",
   "metadata": {},
   "source": [
    "## Optional Challenge Assignment"
   ]
  },
  {
   "cell_type": "code",
   "execution_count": 79,
   "metadata": {},
   "outputs": [
    {
     "name": "stdout",
     "output_type": "stream",
     "text": [
      "Enter your query date (%Y-%m-%d): 2018-01-01\n",
      "Daily normals query date 2018-01-01 for Specific month,day are [62.0, 69.15384615384616, 77.0]\n"
     ]
    }
   ],
   "source": [
    "# Create a query that will calculate the daily normals \n",
    "# (i.e. the averages for tmin, tmax, and tavg for all historic data matching a specific month and day)\n",
    "def daily_normals(date):\n",
    "   \n",
    "    query_date = str(input(\"Enter your query date (%Y-%m-%d): \"))\n",
    "\n",
    "    queried_date =datetime.strptime(query_date, '%Y-%m-%d').date()\n",
    "    date= queried_date.strftime(\"%m-%d\")         \n",
    "    Tmin=session.query(func.min(Measurement.tobs)).filter(func.strftime(\"%m-%d\", Measurement.date) == date).all()\n",
    "    Tmax=session.query(func.max(Measurement.tobs)).filter(func.strftime(\"%m-%d\", Measurement.date) == date).all()\n",
    "    Tavg=session.query(func.avg(Measurement.tobs)).filter(func.strftime(\"%m-%d\", Measurement.date) == date).all()\n",
    "    #sel = [func.min(Measurement.tobs), func.avg(Measurement.tobs), func.max(Measurement.tobs)]\n",
    "    #result=session.query(*sel).filter(func.strftime(\"%m-%d\", Measurement.date) == date).all()\n",
    "    result = Tmin, Tavg, Tmax\n",
    "    normals= list(np.ravel(result))\n",
    "    return(normals)\n",
    "    \n",
    "print (f'Daily normals query date {query_date} for Specific month,day are {daily_normals(\"01-01\")}')\n"
   ]
  },
  {
   "cell_type": "code",
   "execution_count": 82,
   "metadata": {},
   "outputs": [
    {
     "name": "stdout",
     "output_type": "stream",
     "text": [
      "Enter your query start date (%Y-%m-%d): 2018-01-01\n",
      "Enter your query end date (%Y-%m-%d): 2018-01-07\n",
      "Enter your query date (%Y-%m-%d): 2018-01-01\n",
      "Enter your query date (%Y-%m-%d): 2018-01-02\n",
      "Enter your query date (%Y-%m-%d): 2018-01-03\n",
      "Enter your query date (%Y-%m-%d): 2018-01-04\n",
      "Enter your query date (%Y-%m-%d): 2018-01-05\n",
      "Enter your query date (%Y-%m-%d): 2018-01-06\n",
      "Enter your query date (%Y-%m-%d): 2018-01-07\n",
      "The list of dates on month and day format are ['01-01', '01-02', '01-03', '01-04', '01-05', '01-06', '01-07']\n",
      "Daily normals for the query dates are:\n",
      "[[62.0, 69.15384615384616, 77.0], [60.0, 69.39622641509433, 77.0], [62.0, 68.9090909090909, 77.0], [58.0, 70.0, 76.0], [56.0, 67.96428571428571, 76.0], [61.0, 68.96491228070175, 76.0], [57.0, 68.54385964912281, 76.0]]\n"
     ]
    }
   ],
   "source": [
    "# calculate the daily normals for your trip\n",
    "#enter the trip starting and ending dates \n",
    "query_start_date =str(input(\"Enter your query start date (%Y-%m-%d): \"))\n",
    "query_end_date = str(input(\"Enter your query end date (%Y-%m-%d): \"))\n",
    "end_date =datetime.strptime(query_end_date, '%Y-%m-%d').date()\n",
    "start_date =datetime.strptime(query_start_date, '%Y-%m-%d').date()\n",
    "diff=end_date-start_date\n",
    "days=diff.days\n",
    "daterange = pd.date_range(start_date, end_date)\n",
    "#storing the dates in list start_d\n",
    "start_d=[]\n",
    "for single_date in daterange:\n",
    "    start=single_date.strftime(\"%Y-%m-%d\")\n",
    "    start_d.append(start)\n",
    "# push each tuple of calculations into a list called `normals`\n",
    "normals=[]\n",
    "Day_mon=[]\n",
    "for single_date in daterange:\n",
    "    day_mon=single_date.strftime(\"%m-%d\")\n",
    "    Day_mon.append(day_mon)\n",
    "    temp=daily_normals(Day_mon)\n",
    "    normals.append(temp)\n",
    "    \n",
    "print(f'The list of dates on month and day format are {Day_mon}')\n",
    "print(f'Daily normals for the query dates are:')\n",
    "print(normals)"
   ]
  },
  {
   "cell_type": "code",
   "execution_count": 83,
   "metadata": {},
   "outputs": [
    {
     "data": {
      "text/html": [
       "<div>\n",
       "<style scoped>\n",
       "    .dataframe tbody tr th:only-of-type {\n",
       "        vertical-align: middle;\n",
       "    }\n",
       "\n",
       "    .dataframe tbody tr th {\n",
       "        vertical-align: top;\n",
       "    }\n",
       "\n",
       "    .dataframe thead th {\n",
       "        text-align: right;\n",
       "    }\n",
       "</style>\n",
       "<table border=\"1\" class=\"dataframe\">\n",
       "  <thead>\n",
       "    <tr style=\"text-align: right;\">\n",
       "      <th></th>\n",
       "      <th>Tmin</th>\n",
       "      <th>TAvg</th>\n",
       "      <th>Tmax</th>\n",
       "    </tr>\n",
       "    <tr>\n",
       "      <th>Date</th>\n",
       "      <th></th>\n",
       "      <th></th>\n",
       "      <th></th>\n",
       "    </tr>\n",
       "  </thead>\n",
       "  <tbody>\n",
       "    <tr>\n",
       "      <th>2018-01-01</th>\n",
       "      <td>62.0</td>\n",
       "      <td>69.153846</td>\n",
       "      <td>77.0</td>\n",
       "    </tr>\n",
       "    <tr>\n",
       "      <th>2018-01-02</th>\n",
       "      <td>60.0</td>\n",
       "      <td>69.396226</td>\n",
       "      <td>77.0</td>\n",
       "    </tr>\n",
       "    <tr>\n",
       "      <th>2018-01-03</th>\n",
       "      <td>62.0</td>\n",
       "      <td>68.909091</td>\n",
       "      <td>77.0</td>\n",
       "    </tr>\n",
       "    <tr>\n",
       "      <th>2018-01-04</th>\n",
       "      <td>58.0</td>\n",
       "      <td>70.000000</td>\n",
       "      <td>76.0</td>\n",
       "    </tr>\n",
       "    <tr>\n",
       "      <th>2018-01-05</th>\n",
       "      <td>56.0</td>\n",
       "      <td>67.964286</td>\n",
       "      <td>76.0</td>\n",
       "    </tr>\n",
       "    <tr>\n",
       "      <th>2018-01-06</th>\n",
       "      <td>61.0</td>\n",
       "      <td>68.964912</td>\n",
       "      <td>76.0</td>\n",
       "    </tr>\n",
       "    <tr>\n",
       "      <th>2018-01-07</th>\n",
       "      <td>57.0</td>\n",
       "      <td>68.543860</td>\n",
       "      <td>76.0</td>\n",
       "    </tr>\n",
       "  </tbody>\n",
       "</table>\n",
       "</div>"
      ],
      "text/plain": [
       "            Tmin       TAvg  Tmax\n",
       "Date                             \n",
       "2018-01-01  62.0  69.153846  77.0\n",
       "2018-01-02  60.0  69.396226  77.0\n",
       "2018-01-03  62.0  68.909091  77.0\n",
       "2018-01-04  58.0  70.000000  76.0\n",
       "2018-01-05  56.0  67.964286  76.0\n",
       "2018-01-06  61.0  68.964912  76.0\n",
       "2018-01-07  57.0  68.543860  76.0"
      ]
     },
     "execution_count": 83,
     "metadata": {},
     "output_type": "execute_result"
    }
   ],
   "source": [
    "df_normals = pd.DataFrame(normals,columns=['Tmin', 'TAvg', 'Tmax'])\n",
    "df_normals['Date']=start_d\n",
    "df_normals.set_index('Date',inplace=True)\n",
    "df_normals\n"
   ]
  },
  {
   "cell_type": "code",
   "execution_count": 85,
   "metadata": {},
   "outputs": [
    {
     "data": {
      "image/png": "[encoded data removed]",
      "text/plain": [
       "<Figure size 432x288 with 1 Axes>"
      ]
     },
     "metadata": {},
     "output_type": "display_data"
    }
   ],
   "source": [
    "x=np.arange(0, len(df_normals))\n",
    "#df_normals.plot.area(linewidth=1,use_index=True,stacked=False, colormap=\"plasma\")\n",
    "df_normals.plot.area(stacked=False, color=['blue', 'red', 'orange'])\n",
    "plt.xticks( x, start_d ,rotation=45)\n",
    "plt.autoscale(enable=True, axis='x', tight=True)\n",
    "plt.ylabel(\"Temp (F)\")\n",
    "plt.grid(color=\"grey\")\n",
    "plt.savefig(\"TempVstripdates.png\")\n",
    "plt.show()\n",
    "\n"
   ]
  }
 ],
 "metadata": {
  "kernel_info": {
   "name": "python3"
  },
  "kernelspec": {
   "display_name": "Python [default]",
   "language": "python",
   "name": "python3"
  },
  "language_info": {
   "codemirror_mode": {
    "name": "ipython",
    "version": 3
   },
   "file_extension": ".py",
   "mimetype": "text/x-python",
   "name": "python",
   "nbconvert_exporter": "python",
   "pygments_lexer": "ipython3",
   "version": "3.6.5"
  },
  "nteract": {
   "version": "0.9.1"
  },
  "varInspector": {
   "cols": {
    "lenName": 16,
    "lenType": 16,
    "lenVar": 40
   },
   "kernels_config": {
    "python": {
     "delete_cmd_postfix": "",
     "delete_cmd_prefix": "del ",
     "library": "var_list.py",
     "varRefreshCmd": "print(var_dic_list())"
    },
    "r": {
     "delete_cmd_postfix": ") ",
     "delete_cmd_prefix": "rm(",
     "library": "var_list.r",
     "varRefreshCmd": "cat(var_dic_list()) "
    }
   },
   "types_to_exclude": [
    "module",
    "function",
    "builtin_function_or_method",
    "instance",
    "_Feature"
   ],
   "window_display": false
  }
 },
 "nbformat": 4,
 "nbformat_minor": 2
}
